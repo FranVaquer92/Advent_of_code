{
 "cells": [
  {
   "cell_type": "code",
   "execution_count": 1,
   "metadata": {},
   "outputs": [],
   "source": [
    "import pandas as pd\n",
    "import numpy as np\n"
   ]
  },
  {
   "cell_type": "code",
   "execution_count": 69,
   "metadata": {},
   "outputs": [
    {
     "name": "stdout",
     "output_type": "stream",
     "text": [
      "1886\n",
      "134\n",
      "252724\n",
      "2020\n"
     ]
    }
   ],
   "source": [
    "# PART 1\n",
    "df = pd.read_table(\"puzzle_input.txt\", header = None)\n",
    "num = 0\n",
    "resultado = 0\n",
    "anyo = 0\n",
    "for x in range(0,len(df[0])):\n",
    "    num = df[0][x]\n",
    "    for i in range(0,len(df[0])):\n",
    "        if df[0][i] + num == 2020:\n",
    "            print(df[0][i])\n",
    "            print(num)\n",
    "            resultado = df[0][i] * num\n",
    "            anyo= df[0][i] + num\n",
    "            break\n",
    "    if anyo == 2020:\n",
    "        break\n",
    "\n",
    "print(resultado)\n",
    "print(anyo)\n",
    "\n",
    "\n"
   ]
  },
  {
   "cell_type": "code",
   "execution_count": 70,
   "metadata": {},
   "outputs": [
    {
     "name": "stdout",
     "output_type": "stream",
     "text": [
      "470\n",
      "882\n",
      "668\n",
      "276912720\n",
      "2020\n"
     ]
    }
   ],
   "source": [
    "#PART 2\n",
    "num = 0\n",
    "resultado = 0\n",
    "anyo = 0\n",
    "for x in range(0,len(df[0])):\n",
    "    num = df[0][x]\n",
    "    for j in range(0,len(df[0])):\n",
    "        num_2 = df[0][j]\n",
    "        for i in range(0,len(df[0])):\n",
    "            if df[0][i] + num + num_2 == 2020:\n",
    "                print(df[0][i])\n",
    "                print(num)\n",
    "                print(num_2)\n",
    "                resultado = df[0][i] * num * num_2\n",
    "                anyo= df[0][i] + num + num_2\n",
    "                break\n",
    "        if anyo == 2020:\n",
    "            break\n",
    "    if anyo == 2020:\n",
    "        break\n",
    "\n",
    "print(resultado)\n",
    "print(anyo)"
   ]
  }
 ],
 "metadata": {
  "kernelspec": {
   "display_name": "Python 3",
   "language": "python",
   "name": "python3"
  },
  "language_info": {
   "codemirror_mode": {
    "name": "ipython",
    "version": 3
   },
   "file_extension": ".py",
   "mimetype": "text/x-python",
   "name": "python",
   "nbconvert_exporter": "python",
   "pygments_lexer": "ipython3",
   "version": "3.7.4"
  }
 },
 "nbformat": 4,
 "nbformat_minor": 2
}
